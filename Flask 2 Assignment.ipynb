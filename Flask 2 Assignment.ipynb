{
 "cells": [
  {
   "cell_type": "markdown",
   "id": "03d99042-76c1-46d2-aa9d-be540b996d46",
   "metadata": {},
   "source": [
    "## Q1. Explain GET and POST methods."
   ]
  },
  {
   "cell_type": "markdown",
   "id": "d8da1038-514e-4409-a8aa-601e7a21b354",
   "metadata": {},
   "source": [
    "GET and POST are two of the most common HTTP methods used in web development for interacting with web servers and exchanging data between clients (such as web browsers) and servers. They serve different purposes and have distinct characteristics.\n",
    "\n",
    "### 1. GET Method:\n",
    "The GET method is used to request data from a web server. It is designed to retrieve information and should not have any side effects on the server's state. When a client (usually a web browser) sends a GET request, it appends the data in the form of query parameters to the URL. These parameters are visible in the URL's address bar.\n",
    "\n",
    "#### Characteristics of the GET method:\n",
    "\n",
    "The data sent with a GET request is included in the URL's query parameters.\n",
    "GET requests are typically used to retrieve data, like fetching a webpage, image, or other resources.\n",
    "They are considered \"idempotent,\" meaning multiple identical GET requests should produce the same result as a single request.\n",
    "GET requests can be cached by browsers and intermediaries (like CDNs) because they are not expected to modify data.\n",
    "They have a limit on the amount of data that can be sent in the query parameters.\n",
    "Example: https://example.com/api/resource?id=123\n",
    "\n",
    "### 2. POST Method:\n",
    "The POST method is used to send data to the server in order to create or update resources. Unlike GET requests, the data sent with a POST request is included in the request's body, not in the URL. This makes it suitable for transmitting larger amounts of data that may not be suitable or safe to include in the URL.\n",
    "\n",
    "#### Characteristics of the POST method:\n",
    "\n",
    "The data sent with a POST request is included in the request's body, making it suitable for sending data that should not be visible in the URL.\n",
    "POST requests are often used for submitting forms, sending data to APIs for processing, and performing actions that modify server-side data.\n",
    "They are not idempotent; multiple identical POST requests can result in different outcomes if the server state changes.\n",
    "POST requests are not cached by default, as they are meant to modify data on the server.\n",
    "There are no strict limits on the amount of data that can be sent in the request body"
   ]
  },
  {
   "cell_type": "markdown",
   "id": "5736195f-40e2-4eda-8613-bfa7cf188a9a",
   "metadata": {},
   "source": [
    "## Q2. Why is request used in Flask?"
   ]
  },
  {
   "cell_type": "markdown",
   "id": "a3da08a9-ca6e-4447-b736-a2bfcbcc9185",
   "metadata": {},
   "source": [
    "In Flask, a popular Python web framework, the term \"request\" refers to an object that encapsulates the incoming HTTP request sent by a client (usually a web browser) to the server. This \"request\" object contains information about the request itself, such as the HTTP method used (GET, POST, etc.), the URL, headers, and any data sent in the request body.\n",
    "\n",
    "#### The \"request\" object is a fundamental component of Flask and other web frameworks, as it allows developers to access and manipulate various aspects of the incoming request in order to process it and generate an appropriate response. Here's why the \"request\" object is used in Flask:\n",
    "\n",
    "##### 1. Handling User Input: When a user interacts with a web application, they often submit data through forms, query parameters, or other means. The \"request\" object provides a convenient way to access this data, whether it's form data from a POST request or query parameters from a GET request. Developers can extract this input data and use it to perform actions or generate dynamic content.\n",
    "\n",
    "##### 2. Routing and View Functions: In Flask, routing is the process of associating URL patterns with specific view functions that handle those URLs. These view functions take the \"request\" object as an argument and can access information about the request to determine how to respond. For example, they can access URL parameters or form data from the \"request\" object to customize the response.\n",
    "\n",
    "##### 3. Authentication and Authorization: Web applications often require user authentication and authorization to control access to certain resources or functionalities. The \"request\" object allows developers to examine headers (such as cookies or authorization tokens) to verify the identity of the user and make decisions about granting access.\n",
    "\n",
    "##### 4. Request Headers: The \"request\" object provides access to the headers sent by the client. These headers can contain important information about the request, such as the user agent, content type, and more. Developers can use this information to tailor their response based on the client's capabilities or preferences.\n",
    "\n",
    "##### 5. Cookies and Sessions: Cookies are small pieces of data that a server can send to a client's browser, which are then sent back with subsequent requests. Flask's \"request\" object provides access to cookies sent by the client, allowing developers to manage user sessions and store user-specific data."
   ]
  },
  {
   "cell_type": "markdown",
   "id": "6bec9595-17f0-4f1c-bbd9-d0b9dc013364",
   "metadata": {},
   "source": [
    "Here's a simple example of how the \"request\" object is used in a Flask route:"
   ]
  },
  {
   "cell_type": "code",
   "execution_count": 1,
   "id": "ee556452-6418-4330-8b8c-7d32248c462f",
   "metadata": {},
   "outputs": [
    {
     "ename": "ModuleNotFoundError",
     "evalue": "No module named 'flask'",
     "output_type": "error",
     "traceback": [
      "\u001b[0;31m---------------------------------------------------------------------------\u001b[0m",
      "\u001b[0;31mModuleNotFoundError\u001b[0m                       Traceback (most recent call last)",
      "Cell \u001b[0;32mIn[1], line 1\u001b[0m\n\u001b[0;32m----> 1\u001b[0m \u001b[38;5;28;01mfrom\u001b[39;00m \u001b[38;5;21;01mflask\u001b[39;00m \u001b[38;5;28;01mimport\u001b[39;00m Flask, request\n\u001b[1;32m      3\u001b[0m app \u001b[38;5;241m=\u001b[39m Flask(\u001b[38;5;18m__name__\u001b[39m)\n\u001b[1;32m      5\u001b[0m \u001b[38;5;129m@app\u001b[39m\u001b[38;5;241m.\u001b[39mroute(\u001b[38;5;124m'\u001b[39m\u001b[38;5;124m/hello\u001b[39m\u001b[38;5;124m'\u001b[39m, methods\u001b[38;5;241m=\u001b[39m[\u001b[38;5;124m'\u001b[39m\u001b[38;5;124mGET\u001b[39m\u001b[38;5;124m'\u001b[39m])\n\u001b[1;32m      6\u001b[0m \u001b[38;5;28;01mdef\u001b[39;00m \u001b[38;5;21mhello\u001b[39m():\n",
      "\u001b[0;31mModuleNotFoundError\u001b[0m: No module named 'flask'"
     ]
    }
   ],
   "source": [
    "from flask import Flask, request\n",
    "\n",
    "app = Flask(__name__)\n",
    "\n",
    "@app.route('/hello', methods=['GET'])\n",
    "def hello():\n",
    "    user_agent = request.headers.get('User-Agent')\n",
    "    return f'Hello! Your user agent is: {user_agent}'\n"
   ]
  },
  {
   "cell_type": "markdown",
   "id": "e319c3d2-33c7-46fa-8a27-2bce3d4d1608",
   "metadata": {},
   "source": [
    "In this example, the \"request\" object is used to access the user agent header sent by the client's browser and include it in the response.\n",
    "\n",
    "Overall, the \"request\" object is a crucial tool in Flask for handling incoming HTTP requests, processing user input, and creating dynamic and interactive web applications.\n",
    "\n",
    "\n",
    "\n",
    "\n"
   ]
  },
  {
   "cell_type": "markdown",
   "id": "6d1afa5d-013f-415d-a15f-67b03249a5ef",
   "metadata": {},
   "source": [
    "## Q3. Why is redirect() used in Flask?"
   ]
  },
  {
   "cell_type": "markdown",
   "id": "353d43ee-67cf-41d5-b1eb-068f44c8dc75",
   "metadata": {},
   "source": [
    "In Flask, the redirect() function is used to generate an HTTP redirect response. An HTTP redirect is a status code (usually 3xx) sent by the server to the client's browser, indicating that the requested resource has been moved or the URL has changed. The browser then makes a new request to the specified URL, effectively navigating the user to a different page.\n",
    "\n",
    "The redirect() function is commonly used for the following purposes:\n",
    "\n",
    "#### 1. URL Redirection: When you want to guide the user from one URL to another. This is often used when you change the URL structure of your website or when you want to ensure that users are accessing a canonical URL."
   ]
  },
  {
   "cell_type": "code",
   "execution_count": 2,
   "id": "462e562a-48d5-4cdd-a957-3c829b5c33cd",
   "metadata": {},
   "outputs": [
    {
     "ename": "ModuleNotFoundError",
     "evalue": "No module named 'flask'",
     "output_type": "error",
     "traceback": [
      "\u001b[0;31m---------------------------------------------------------------------------\u001b[0m",
      "\u001b[0;31mModuleNotFoundError\u001b[0m                       Traceback (most recent call last)",
      "Cell \u001b[0;32mIn[2], line 1\u001b[0m\n\u001b[0;32m----> 1\u001b[0m \u001b[38;5;28;01mfrom\u001b[39;00m \u001b[38;5;21;01mflask\u001b[39;00m \u001b[38;5;28;01mimport\u001b[39;00m Flask, redirect\n\u001b[1;32m      3\u001b[0m app \u001b[38;5;241m=\u001b[39m Flask(\u001b[38;5;18m__name__\u001b[39m)\n\u001b[1;32m      5\u001b[0m \u001b[38;5;129m@app\u001b[39m\u001b[38;5;241m.\u001b[39mroute(\u001b[38;5;124m'\u001b[39m\u001b[38;5;124m/old_url\u001b[39m\u001b[38;5;124m'\u001b[39m)\n\u001b[1;32m      6\u001b[0m \u001b[38;5;28;01mdef\u001b[39;00m \u001b[38;5;21mold_url\u001b[39m():\n",
      "\u001b[0;31mModuleNotFoundError\u001b[0m: No module named 'flask'"
     ]
    }
   ],
   "source": [
    "from flask import Flask, redirect\n",
    "\n",
    "app = Flask(__name__)\n",
    "\n",
    "@app.route('/old_url')\n",
    "def old_url():\n",
    "    return redirect('/new_url')\n"
   ]
  },
  {
   "cell_type": "markdown",
   "id": "7dba74bc-1c31-4c11-9188-2b2d0dd02ee2",
   "metadata": {},
   "source": [
    "#### 2. After Form Submission: After a user submits a form (e.g., a login form), you may want to redirect them to a different page to display the results or to prevent form resubmission on a page refresh."
   ]
  },
  {
   "cell_type": "code",
   "execution_count": null,
   "id": "5a1115d7-7ca8-410c-a7a1-650fde6b53b9",
   "metadata": {},
   "outputs": [],
   "source": [
    "from flask import Flask, redirect, request\n",
    "\n",
    "app = Flask(__name__)\n",
    "\n",
    "@app.route('/login', methods=['POST'])\n",
    "def login():\n",
    "    # Perform login logic\n",
    "    return redirect('/dashboard')\n"
   ]
  },
  {
   "cell_type": "markdown",
   "id": "1e3d7b6e-e246-457f-8d29-ee1b68049518",
   "metadata": {},
   "source": [
    "#### 3. Changing Views or Pages: When your web application uses different routes for different views or pages, you can use redirect() to send the user to the appropriate route based on certain conditions."
   ]
  },
  {
   "cell_type": "code",
   "execution_count": null,
   "id": "4ad55b0c-5ba0-481b-ba22-f8021fb668d9",
   "metadata": {},
   "outputs": [],
   "source": [
    "from flask import Flask, redirect\n",
    "\n",
    "app = Flask(__name__)\n",
    "\n",
    "@app.route('/check_user')\n",
    "def check_user():\n",
    "    if user_is_authenticated:\n",
    "        return redirect('/dashboard')\n",
    "    else:\n",
    "        return redirect('/login')\n"
   ]
  },
  {
   "cell_type": "markdown",
   "id": "440326fa-66e4-40b4-b2f4-1238fd2be82c",
   "metadata": {},
   "source": [
    "#### 4. External Links: You can use redirect() to send users to external URLs, which can be useful when you want to guide users to a different domain or an external resource."
   ]
  },
  {
   "cell_type": "code",
   "execution_count": null,
   "id": "fabeea88-fb54-4a18-b956-e09284ec70eb",
   "metadata": {},
   "outputs": [],
   "source": [
    "from flask import Flask, redirect\n",
    "\n",
    "app = Flask(__name__)\n",
    "\n",
    "@app.route('/external')\n",
    "def external_link():\n",
    "    return redirect('https://example.com')\n"
   ]
  },
  {
   "cell_type": "markdown",
   "id": "b1a49cee-8584-48e3-b731-1f903991fc5d",
   "metadata": {},
   "source": [
    "##### Using redirect() helps in managing the flow of your web application and ensuring that users are directed to the appropriate locations based on their actions or the logic of your application. It's a way to provide a seamless and user-friendly experience when navigating your website or web application."
   ]
  },
  {
   "cell_type": "markdown",
   "id": "9c28dbf2-d61e-4142-9f5d-22dcb52e8c61",
   "metadata": {},
   "source": [
    "## Q4. What are templates in Flask? Why is the render_template() function used?"
   ]
  },
  {
   "cell_type": "markdown",
   "id": "00559678-3853-4ec9-8fbf-b143a635279b",
   "metadata": {},
   "source": [
    "In Flask, templates are files that contain HTML (and possibly other dynamic elements) along with placeholders for data that will be dynamically inserted when the template is rendered. Templates allow you to separate the structure and presentation of your web pages from the Python code that generates the content. This separation enhances code organization, maintenance, and makes it easier to implement consistent designs across multiple pages.\n",
    "\n",
    "The render_template() function in Flask is used to render these templates. It takes the name of a template file (usually a .html file) and any additional data that you want to pass to the template. This function then combines the template file with the provided data to produce the final HTML that will be sent to the client's browser.\n",
    "\n",
    "#### Here's how the render_template() function is used:\n",
    "\n",
    "##### 1. Create a Template:\n",
    "You create an HTML template that contains placeholders for dynamic data. These placeholders are often represented using template tags. Flask uses the Jinja2 template engine to process these tags and render the final HTML."
   ]
  },
  {
   "cell_type": "code",
   "execution_count": 3,
   "id": "7d87978c-ec4d-423d-9912-a0c91938e652",
   "metadata": {},
   "outputs": [
    {
     "ename": "SyntaxError",
     "evalue": "invalid syntax (65471520.py, line 1)",
     "output_type": "error",
     "traceback": [
      "\u001b[0;36m  Cell \u001b[0;32mIn[3], line 1\u001b[0;36m\u001b[0m\n\u001b[0;31m    <!-- template.html -->\u001b[0m\n\u001b[0m    ^\u001b[0m\n\u001b[0;31mSyntaxError\u001b[0m\u001b[0;31m:\u001b[0m invalid syntax\n"
     ]
    }
   ],
   "source": [
    "<!-- template.html -->\n",
    "<html>\n",
    "<head>\n",
    "    <title>{{ title }}</title>\n",
    "</head>\n",
    "<body>\n",
    "    <h1>Hello, {{ name }}!</h1>\n",
    "</body>\n",
    "</html>"
   ]
  },
  {
   "cell_type": "markdown",
   "id": "e6987570-31f1-46d1-b73e-10458c953d6a",
   "metadata": {},
   "source": [
    "##### 2. Use render_template():\n",
    "In your Flask route handler, you use the render_template() function to render the template. You pass the template filename as an argument and provide any necessary data as keyword arguments."
   ]
  },
  {
   "cell_type": "code",
   "execution_count": null,
   "id": "4dbc1878-e349-4e2b-a097-03c757701b94",
   "metadata": {},
   "outputs": [],
   "source": [
    "from flask import Flask, render_template\n",
    "\n",
    "app = Flask(__name__)\n",
    "\n",
    "@app.route('/greet/<name>')\n",
    "def greet(name):\n",
    "    return render_template('template.html', title='Greeting', name=name)\n"
   ]
  },
  {
   "cell_type": "markdown",
   "id": "1cd6f4d8-d7f2-4e98-8e2d-5773e6de087e",
   "metadata": {},
   "source": [
    "###### In this example, the template file template.html will be rendered, and the placeholders {{ title }} and {{ name }} will be replaced with the values provided in the render_template() function.\n",
    "\n",
    "#### 3. Output to Browser:\n",
    "When the client's browser makes a request to the specified route, Flask will render the template using the provided data and return the resulting HTML to the browser. The browser then displays the dynamically generated content.\n",
    "\n",
    "The render_template() function serves as a bridge between your Python code and the HTML templates, allowing you to generate dynamic content and display it to users. It also enables the reuse of templates across different routes and ensures that your application's presentation and logic are cleanly separated.\n",
    "\n",
    "In summary, templates in Flask are HTML files with placeholders for dynamic data. The render_template() function is used to combine these templates with data and generate dynamic HTML responses that are sent to the client's browser. This separation of concerns is a fundamental principle in web development, enhancing code maintainability and promoting efficient collaboration between developers working on different aspects of a web application.\n"
   ]
  },
  {
   "cell_type": "markdown",
   "id": "445975bf-b7f9-4a9e-82b3-19f8444e5e40",
   "metadata": {
    "tags": []
   },
   "source": [
    "## Q5. Create a simple API. Use Postman to test it. Attach the screenshot of the output in the Jupyter Notebook."
   ]
  },
  {
   "cell_type": "markdown",
   "id": "b2d2d86a-314b-42ff-a618-c9322a2b4669",
   "metadata": {},
   "source": [
    "#### Picture 1\n",
    "\n",
    "\n",
    "https://brown-actor-qklnm.pwskills.app/files/work/Real%20Class%20Week%201/Assignments%20/Screenshot%20(41).png?_xsrf=2%7C90104d1f%7Ce0ac3476a916a885572f92f8b5459675%7C1692684582"
   ]
  },
  {
   "cell_type": "markdown",
   "id": "ccf3fabe-0ecc-4ac1-9dc1-53efd79b61fc",
   "metadata": {},
   "source": [
    "#### Picture 2\n",
    "\n",
    "https://brown-actor-qklnm.pwskills.app/files/work/Real%20Class%20Week%201/Assignments%20/Screenshot%20(42).png?_xsrf=2%7C90104d1f%7Ce0ac3476a916a885572f92f8b5459675%7C1692684582"
   ]
  },
  {
   "cell_type": "code",
   "execution_count": null,
   "id": "a00b04c7-811e-4d74-a53c-d5402a97b3f5",
   "metadata": {},
   "outputs": [],
   "source": []
  },
  {
   "cell_type": "code",
   "execution_count": null,
   "id": "a48b35fb-d68e-40d6-b73b-db0926539f88",
   "metadata": {},
   "outputs": [],
   "source": []
  }
 ],
 "metadata": {
  "kernelspec": {
   "display_name": "Python 3 (ipykernel)",
   "language": "python",
   "name": "python3"
  },
  "language_info": {
   "codemirror_mode": {
    "name": "ipython",
    "version": 3
   },
   "file_extension": ".py",
   "mimetype": "text/x-python",
   "name": "python",
   "nbconvert_exporter": "python",
   "pygments_lexer": "ipython3",
   "version": "3.10.8"
  }
 },
 "nbformat": 4,
 "nbformat_minor": 5
}
